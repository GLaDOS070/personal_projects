{
 "cells": [
  {
   "cell_type": "code",
   "execution_count": 2,
   "id": "f8ac4202",
   "metadata": {},
   "outputs": [],
   "source": [
    "import pandas as pd\n",
    "import gspread\n",
    "from oauth2client.service_account import ServiceAccountCredentials\n",
    "import os\n",
    "import requests\n",
    "from tqdm.notebook import tqdm\n",
    "from datetime import date\n",
    "import datetime"
   ]
  },
  {
   "cell_type": "code",
   "execution_count": 3,
   "id": "d832f891",
   "metadata": {},
   "outputs": [],
   "source": [
    "# Укажите путь к вашему файлу с учетными данными\n",
    "path_to_credential = 'C:/Users/MerinovDV/Downloads/auto-monitoring-367212-64ec4ad9d3a5.json' \n",
    "\n",
    "# Укажите имя таблицы в Google\n",
    "table_name = 'Auto_monitoring'\n",
    "\n",
    "scope = ['https://spreadsheets.google.com/feeds',\n",
    "         'https://www.googleapis.com/auth/drive']\n",
    "\n",
    "credentials = ServiceAccountCredentials.from_json_keyfile_name(path_to_credential, scope)\n",
    "\n",
    "gs = gspread.authorize(credentials)\n",
    "work_table = gs.open(table_name)\n",
    "\n",
    "# список листов в Google с данными\n",
    "google_sheets = ['smart_new', 'laptop_new', 'earphones_new', 'monitor_new', 'processor_new', 'tv_new']\n"
   ]
  },
  {
   "cell_type": "markdown",
   "id": "768c4db4",
   "metadata": {},
   "source": [
    "## Парсинг курса с сайта ЦБ"
   ]
  },
  {
   "cell_type": "code",
   "execution_count": 4,
   "id": "1943a79e",
   "metadata": {},
   "outputs": [],
   "source": [
    "def get_currency(date_parse=None):\n",
    "    \n",
    "    \"\"\"\n",
    "    возвращает список с датой и курсом доллара\n",
    "    \n",
    "    date_parse: str, datetime\n",
    "        дата, на которую хотим узнать курс доллара\n",
    "    \"\"\"\n",
    "    \n",
    "    # преобразовываем дату в нужный формат\n",
    "    if type(date_parse) is type(date.today()):\n",
    "        date_parse = date_parse.strftime(\"%d.%m.%Y\") \n",
    "        \n",
    "    # если даты нет, то по умолчанию будет сегодняшний день\n",
    "    elif date_parse == None:\n",
    "        date_parse = date.today().strftime(\"%d.%m.%Y\")\n",
    "        \n",
    "    else:\n",
    "        date_parse = datetime.datetime.strptime(date_parse, \"%d.%m.%Y\")\n",
    "        date_parse = date_parse.strftime(\"%d.%m.%Y\")  \n",
    "\n",
    "    \n",
    "    # get запрос на страницу цб с нужной датой\n",
    "    cb = requests.get(f'https://www.cbr.ru/currency_base/daily/?UniDbQuery.Posted=True&UniDbQuery.To={date_parse}')\n",
    "    # тип float нужен для того, чтобы данные адекватно загружались в google, а не в формате \"текста\"\n",
    "    currency = float(cb.text.split('Доллар США</td>\\r\\n          <td>')[1].split('</td>')[0].replace(',','.'))\n",
    "    \n",
    "    currency_list = [date_parse, currency]\n",
    "    \n",
    "    return currency_list"
   ]
  },
  {
   "cell_type": "code",
   "execution_count": 53,
   "id": "7a32c404",
   "metadata": {},
   "outputs": [
    {
     "data": {
      "text/plain": [
       "['27.01.2023', 69.1263]"
      ]
     },
     "execution_count": 53,
     "metadata": {},
     "output_type": "execute_result"
    }
   ],
   "source": [
    "get_currency()"
   ]
  },
  {
   "cell_type": "markdown",
   "id": "04c87ee7",
   "metadata": {},
   "source": [
    "## Добавление курса в таблицу Google"
   ]
  },
  {
   "cell_type": "code",
   "execution_count": 5,
   "id": "f698f02f",
   "metadata": {},
   "outputs": [],
   "source": [
    "def append_currency():\n",
    "    \n",
    "    \"\"\"\n",
    "    загружает данные о курсе валют в Google Sheets\n",
    "    \"\"\"\n",
    "    \n",
    "    # смотрим последнюю дату в таблице\n",
    "    last_date = work_table.worksheet('currency').col_values(1)[-1]\n",
    "    last_date = datetime.datetime.strptime(last_date, \"%d.%m.%Y\")\n",
    "    \n",
    "    # считаем разницу в датах\n",
    "    delta = (datetime.datetime.today() - last_date).days\n",
    "    \n",
    "    # если дата не вчерашняя, то заполняем курс за пропущенные даты\n",
    "    if delta !=1:\n",
    "        \n",
    "        for i in range(delta):\n",
    "            \n",
    "            last_date = last_date + datetime. timedelta(days=1)\n",
    "            work_table.worksheet('currency').append_row(get_currency(last_date.strftime(\"%d.%m.%Y\")), \n",
    "                                                        value_input_option='USER_ENTERED')\n",
    "    \n",
    "    # если дата вчерашняя, то заполняем курс на сегодня\n",
    "    else:\n",
    "        work_table.worksheet('currency').append_row(get_currency(), value_input_option='USER_ENTERED')\n",
    "        \n",
    "    return print(\"Данные по курсу ЦБ загружены в Google\")\n"
   ]
  },
  {
   "cell_type": "code",
   "execution_count": 6,
   "id": "4bc38a1e",
   "metadata": {},
   "outputs": [
    {
     "name": "stdout",
     "output_type": "stream",
     "text": [
      "Данные по курсу ЦБ загружены в Google\n"
     ]
    }
   ],
   "source": [
    "append_currency()"
   ]
  },
  {
   "cell_type": "markdown",
   "id": "2c260aff",
   "metadata": {},
   "source": [
    "## Добавление выгрузки в таблицу Google"
   ]
  },
  {
   "cell_type": "code",
   "execution_count": 6,
   "id": "5d3e4a31",
   "metadata": {},
   "outputs": [],
   "source": [
    "def append_data(path):\n",
    "    \n",
    "    \"\"\"\n",
    "    загружает данные по каждой категории товара в Google Sheets\n",
    "    \n",
    "    path: str\n",
    "        путь до excel файлов с выгрузками\n",
    "    \"\"\"\n",
    "    \n",
    "    spliter = 'yandex-v2-'\n",
    "    # получаем файлы из папки \"Загрузки\"\n",
    "    files = os.listdir(path)\n",
    "    files_list = []\n",
    "    for file in files:\n",
    "        if file.startswith(spliter):\n",
    "            files_list.append(file)\n",
    "            \n",
    "    # получаем даты файлов (выгрузки)   \n",
    "    dates = []\n",
    "    for date in files_list:\n",
    "        split_date = date.split(spliter)[1].split('.xlsx')[0].strip()\n",
    "        formated_date = pd.to_datetime(split_date, dayfirst=True)\n",
    "        dates.append(formated_date)\n",
    "    \n",
    "    dates.sort()\n",
    "        \n",
    "    # проверяем есть ли данная дата в Google таблице\n",
    "    for f_date in tqdm(dates):\n",
    "        formated_date = f_date.strftime(\"%d.%m.%Y\")\n",
    "        cell = work_table.worksheet('smart').find(formated_date) # берем 1 любую таблицу, чтобы проверить дату\n",
    "        if cell is None:\n",
    "            excel_df = pd.ExcelFile(path + spliter + formated_date.replace('.', '-') + '.xlsx')\n",
    "            \n",
    "            # Если такой даты нет, то пробегаемся по excel файлу и добавляем листы в Google таблицу\n",
    "            for n, sheet in enumerate(excel_df.sheet_names):\n",
    "                df = pd.read_excel(excel_df, sheet_name=sheet)\n",
    "                \n",
    "                df['Средняя цена, руб'] = (df['Цена min (meta)'] + df['Цена max'])/2\n",
    "                \n",
    "                dollar = get_currency(formated_date)[1]\n",
    "                \n",
    "                df['Средняя цена, usd'] = df['Средняя цена, руб'] / dollar\n",
    "                \n",
    "                if sheet == 'Смартфоны':\n",
    "                    if 'Производитель.1' in df.columns:\n",
    "                        df = df.drop(columns=['Производитель.1'], axis=1)\n",
    "                \n",
    "                worksheet = work_table.worksheet(google_sheets[n])\n",
    "                worksheet.append_rows(df.fillna(0).values.tolist(), value_input_option='USER_ENTERED')\n",
    "                \n",
    "    return print(\"Данные загружены в Google\")"
   ]
  },
  {
   "cell_type": "code",
   "execution_count": 50,
   "id": "4aed0d33",
   "metadata": {},
   "outputs": [
    {
     "data": {
      "application/vnd.jupyter.widget-view+json": {
       "model_id": "1b0cec62e49d4e5cb97560db7d80495b",
       "version_major": 2,
       "version_minor": 0
      },
      "text/plain": [
       "  0%|          | 0/46 [00:00<?, ?it/s]"
      ]
     },
     "metadata": {},
     "output_type": "display_data"
    },
    {
     "name": "stdout",
     "output_type": "stream",
     "text": [
      "Данные загружены в Google\n"
     ]
    }
   ],
   "source": [
    "path = 'C:/Users/MerinovDV/Downloads/'\n",
    "append_data(path)"
   ]
  },
  {
   "cell_type": "code",
   "execution_count": null,
   "id": "daeb3c76",
   "metadata": {},
   "outputs": [],
   "source": []
  }
 ],
 "metadata": {
  "kernelspec": {
   "display_name": "Python 3 (ipykernel)",
   "language": "python",
   "name": "python3"
  },
  "language_info": {
   "codemirror_mode": {
    "name": "ipython",
    "version": 3
   },
   "file_extension": ".py",
   "mimetype": "text/x-python",
   "name": "python",
   "nbconvert_exporter": "python",
   "pygments_lexer": "ipython3",
   "version": "3.9.13"
  }
 },
 "nbformat": 4,
 "nbformat_minor": 5
}
