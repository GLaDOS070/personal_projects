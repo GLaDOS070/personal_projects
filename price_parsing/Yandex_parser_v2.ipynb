{
 "cells": [
  {
   "cell_type": "code",
   "execution_count": 54,
   "id": "da73d60e",
   "metadata": {},
   "outputs": [],
   "source": [
    "import time\n",
    "import requests\n",
    "from bs4 import BeautifulSoup\n",
    "import lxml\n",
    "from tqdm.notebook import tqdm\n",
    "import re\n",
    "import json\n",
    "from fake_useragent import UserAgent\n",
    "\n",
    "import undetected_chromedriver \n",
    "\n",
    "import pandas as pd\n",
    "import gspread\n",
    "from oauth2client.service_account import ServiceAccountCredentials\n",
    "from datetime import date\n",
    "\n",
    "import warnings\n",
    "warnings.filterwarnings('ignore')\n",
    "\n",
    "# from selenium import webdriver\n",
    "# from selenium.webdriver.chrome.service import Service\n",
    "# from seleniumwire import webdriver\n",
    "\n",
    "import pickle\n",
    "\n",
    "from selenium import webdriver\n",
    "from selenium_stealth import stealth"
   ]
  },
  {
   "cell_type": "code",
   "execution_count": null,
   "id": "b92a5f54",
   "metadata": {},
   "outputs": [],
   "source": [
    "# указать пользователя\n",
    "user = 'DANIL'\n",
    "# если файл перенесен в другую папку то сменить путь ниже\n",
    "path_to_credential = rf'C:/Users/{user}/Downloads/auto-monitoring-367212-64ec4ad9d3a5.json' \n",
    "executable_path = rf'C:\\Users\\{user}\\personal_projects\\selenuim_driver\\chromedriver.exe'"
   ]
  },
  {
   "cell_type": "code",
   "execution_count": null,
   "id": "a5c4c07c",
   "metadata": {},
   "outputs": [],
   "source": [
    "# Данные для доступа к Google Spreadsheets\n",
    "\n",
    "# Specify path to your file with credentials\n",
    "path_to_credential = path_to_credential \n",
    "\n",
    "# Указать название файла в google sheets\n",
    "table_name = 'yandex_parser' \n",
    "\n",
    "scope = ['https://spreadsheets.google.com/feeds',\n",
    "         'https://www.googleapis.com/auth/drive']\n",
    "\n",
    "credentials = ServiceAccountCredentials.from_json_keyfile_name(path_to_credential, scope)\n",
    "\n",
    "gs = gspread.authorize(credentials)\n",
    "work_table = gs.open(table_name)\n"
   ]
  },
  {
   "cell_type": "code",
   "execution_count": null,
   "id": "05e4a585",
   "metadata": {},
   "outputs": [],
   "source": [
    "# Получаем список ссылок из google sheets\n",
    "worksheet = work_table.worksheet('gaming_console')\n",
    "links_df = worksheet.get_all_values()\n",
    "columns = links_df.pop(0)\n",
    "links_df = pd.DataFrame(links_df, columns=columns)"
   ]
  },
  {
   "cell_type": "code",
   "execution_count": null,
   "id": "99225031",
   "metadata": {},
   "outputs": [],
   "source": [
    "links_df"
   ]
  },
  {
   "cell_type": "code",
   "execution_count": null,
   "id": "362e8735",
   "metadata": {},
   "outputs": [],
   "source": [
    "print(links_df['Ссылка'][0])"
   ]
  },
  {
   "cell_type": "code",
   "execution_count": 61,
   "id": "4476e38f",
   "metadata": {},
   "outputs": [],
   "source": [
    "def open_title_link(url):\n",
    "    \n",
    "    \"\"\" \n",
    "    функция вовзвращает объект soup по заданной ссылке на титульную страуницу товара\n",
    "    \n",
    "    url: str\n",
    "        ссылка на титульную страницу товара\n",
    "    \"\"\"\n",
    "    ua = UserAgent()\n",
    "    user_agent = ua.random\n",
    "    \n",
    "    options = webdriver.ChromeOptions()\n",
    "    options.add_argument(f'user-agent={user_agent}')\n",
    "    options.add_argument(\"--disable-blink-features=AutomationControlled\")\n",
    "\n",
    "    driver = webdriver.Chrome(\n",
    "        executable_path=executable_path,\n",
    "        options=options)\n",
    "    \n",
    "    # for cookie in pickle.load(open(\"cookies_selenium\", \"rb\")):\n",
    "    #     driver.add_cookie(cookie)\n",
    "    try:\n",
    "        driver.get(url)\n",
    "        time.sleep(2)\n",
    "        pickle.dump(driver.get_cookies(), open(\"cookies_selenium\", \"wb\"))\n",
    "        soup = BeautifulSoup(driver.page_source, 'lxml')\n",
    "    except Exception as ex:\n",
    "        print(ex)\n",
    "    finally:\n",
    "        driver.close()\n",
    "        driver.quit()\n",
    "        \n",
    "    return soup"
   ]
  },
  {
   "cell_type": "code",
   "execution_count": 62,
   "id": "1ae5d63c",
   "metadata": {},
   "outputs": [
    {
     "data": {
      "text/plain": [
       "<html prefix=\"og: http://ogp.me/ns#\"><head><meta content=\"IE=edge\" http-equiv=\"X-UA-Compatible\"/><meta charset=\"utf-8\"/><meta content=\"width=device-width,initial-scale=1\" name=\"viewport\"/><title>Ой!</title><meta content=\"Яндекс\" data-react-helmet=\"true\" property=\"og:title\"/><meta content=\"Найдётся всё\" data-react-helmet=\"true\" property=\"og:description\"/><meta content=\"https://yastatic.net/s3/home/logos/share/share-logo-ru.png\" data-react-helmet=\"true\" property=\"og:image\"/><link href=\"/captcha_smart.min.css?k=1632998364813\" rel=\"stylesheet\"/></head><body class=\"pointerfocus\"><div id=\"root\"><div class=\"Theme Theme_color_yandex-default Theme_root_default\"><div class=\"Container\"><div class=\"Spacer\" style=\"padding-bottom:40px\"><a class=\"Link Link_view_default LogoLink\" href=\"https://www.yandex.ru\" title=\"Яндекс\"><svg height=\"36\" viewbox=\"0 0 86 36\" width=\"86\"><path d=\"M45.983 28.888H44.385L44.377 11.578H35.027V13.274C35.027 18.556 34.835 24.67 32.997 28.888H31.758V35.313H34.555V31.41H43.186V35.313H45.983V28.888ZM58.798 27.758C57.999 28.309 56.601 29.098 54.842 29.098C52.365 29.098 51.086 26.732 51.086 22.238H59.477V20.544C59.477 13.804 57.28 11.32 53.923 11.32C49.648 11.32 47.85 15.971 47.85 22.357C47.85 28.467 50.407 31.739 54.563 31.739C56.561 31.739 58.239 31.108 59.517 30.122L58.798 27.757V27.758ZM26.765 11.572V20.052H22.13V11.572H19.013V31.44H22.13V22.478H26.765V31.44H29.841V11.573H26.765V11.572ZM71.123 31.435H74.519L68.805 20.91L73.8 11.568H70.643L65.808 20.752V11.57H62.692V31.437H65.808V21.543L71.123 31.437V31.435ZM86.02 30.19L85.3 27.904C84.581 28.534 83.423 29.126 81.904 29.126C79.387 29.126 78.188 26.288 78.188 21.321C78.188 16.315 79.786 13.831 82.024 13.831C83.303 13.831 84.501 14.501 85.341 15.211L85.781 12.294C84.901 11.742 83.862 11.269 82.064 11.269C77.349 11.269 74.912 15.251 74.912 21.479C74.912 28.259 77.509 31.689 81.824 31.689C83.662 31.689 84.941 31.097 86.02 30.19ZM41.304 28.991H35.95C37.628 24.773 37.828 18.664 37.828 14.485V14.13H41.304V28.991ZM53.931 13.894C55.729 13.894 56.289 16.377 56.289 19.767H51.134C51.334 16.22 52.014 13.894 53.931 13.894Z\" fill=\"black\"></path><path d=\"M11.892 20.85V31.375H14.969V3.52698H10.374C5.85802 3.52698 2.06202 6.42198 2.06202 12.335C2.06202 16.553 3.74002 18.839 6.25802 20.1L0.903015 31.375H4.46002L9.33502 20.849H11.892V20.85ZM11.898 18.393H10.26C7.58302 18.393 5.38502 16.935 5.38502 12.402C5.38502 7.71098 7.78302 6.09498 10.26 6.09498H11.898V18.393Z\" fill=\"#FF0000\"></path></svg></a></div><div class=\"Spacer\" style=\"padding-bottom:16px\"><span class=\"Text Text_weight_medium Text_typography_headline-s\">Подтвердите, что запросы отправляли вы, а не робот</span></div><span class=\"Text Text_weight_regular Text_typography_body-long-m\">Нам очень жаль, но запросы с вашего устройства похожи на автоматические. <a class=\"Link Link_view_default\" href=\"https://yandex.ru/support/smart-captcha\">Почему это могло произойти?</a></span><div class=\"Spacer Spacer_auto-gap_bottom\" style=\"padding-top:40px;padding-bottom:40px\"><div class=\"CheckboxCaptcha\" data-testid=\"checkbox-captcha\"><form action=\"/checkcaptcha?key=19095ec6-bf100015-29be9401-820b1a1c_2/1676238663/56611056a2a882be3839edc32284f1cf_87472a6a4eec556cbdfd4c58843d701f&amp;mt=5674101F7B0CD023D779A1B30F45243D717E9A63CB3A03E8299F700D6DA1A55A0B0F&amp;retpath=aHR0cHM6Ly9tYXJrZXQueWFuZGV4LnJ1L3Byb2R1Y3QtLWlncm92YWlhLXByaXN0YXZrYS1zb255LXBsYXlzdGF0aW9uLTUvNjY1MzA2MTcwP2dsZmlsdGVyPTE0ODcxMjE0JTNBMTQ4OTkzOTdfMTAxNTMzMjQzNzI4JmdsZmlsdGVyPTE1ODczMzY1JTNBMTU4NzMzNzBfMTAxNTMzMjQzNzI4JmdsZmlsdGVyPTIzNDc2OTEwJTNBMjY2ODQ5NTBfMTAxNjk0MTYzODEyJmdsZmlsdGVyPTI3MTk1MzUwJTNBMjcxOTkwNTBfMTAxNTMzMjQzNzI4JmdsZmlsdGVyPTM2OTg3MDEwJTNBODI1fjgyNV8xMDE1MzMyNDM3MjgmdGV4dD1Tb255JTIwUGxheVN0YXRpb24lMjA1JmNwYT0xJmNwYz1ETWJudzhickZRdkx6ZzVucXlXWTcxYk90YWo2LXRFM3c3X3p3a1llTUlXRFJqREYtT21YWGZsYjhZbzRTRFR3RE1HQUNwUlZ6MHQweHBMMXFhY2VvS19JQURZWURyVFRZWnNnVFAyRXpnbGdCM3NKalJPU0g3U014R3k1eU9fb2xsNFBGRm0tM2pNWEZ2dzNFUjgySGxvc18zQzVPSGNUZFVVRzA0bWxUTnBKUDF6NENncDZ1V3RKMXB3aXZ4bVJMbFhKRlZZQm9odyUyQyZza3U9MTAxNjk0MTYzODEyJmRvLXdhcmVtZDU9MGI5eE1hSHNBdWlEdXZGU1NKNGo0USZyZXNhbGVfZ29vZHM9cmVzYWxlX25ldyZuaWQ9MzQ5NDg1Njk%2C_fdb2ff24e386e609ff4a6ab464e81a66&amp;u=46e35514-ab354864-6e1bd592-44e5f9aa&amp;s=15e258e5cd094b61c6660eb4e61f23fb\" class=\"CheckboxCaptcha-Form\" method=\"POST\"><div class=\"CheckboxCaptcha-Inner\"><div class=\"CheckboxCaptcha-Anchor\"><input class=\"CheckboxCaptcha-Button\" type=\"submit\" value=\"\"/><div class=\"Spin2 Spin2_progress Spin2_view_default Spin2_size_s CheckboxCaptcha-Spin\"></div></div><div class=\"CheckboxCaptcha-Label\"><span class=\"Text Text_weight_regular Text_typography_control-xxl CheckboxCaptcha-LabelText\">Я не робот</span><span class=\"Text Text_color_control-secondary Text_weight_regular Text_typography_control-l\">Нажмите, чтобы продолжить</span></div></div><input hidden=\"\" name=\"key\" value=\"19095ec6-bf100015-29be9401-820b1a1c_2/1676238663/56611056a2a882be3839edc32284f1cf_87472a6a4eec556cbdfd4c58843d701f\"/><input hidden=\"\" name=\"rdata\" value=\"hWoUaY39JkSuBkbCEtddHy+d8MVF3FT7ETjnjOvV9Q/SahRrjf0mBOsbJ6cBy0hcMZ2r0yCJGe4IcJWQq8SuA5smWA386WFY+Qc29gXZRVxa2qmMbZEXvhxr5f+wmvlMyWpPPs6rd1P3CXWvEsEZH3HMr8sg0gK+Rym1sOCa+U/Pak8s3bJhGvlJJrUKnR4SbtrmxWCAGaYbPKu24Jr5T8pqTyzdsmEa+UkhtQqdHhJu2ubFYIUZphs8q7bgmvlPyWpPPs6rd1P3CXavEsEZH3HMr8sg0QK+RzumqfbT9w+deVdinPQoFLgZNq0SykZMLcf71zaDGbBfPvTnv5TqFMx4DWmf/zQU9wl3oxLBCwxo2ubFYYYZpgkvsqCplLgb3HJHbIPlZwH5EWDlRZ5TXH6H6N06nxn4T3/99Lea+UnNak8+zqt3U/cJcKMSwQsMaNrmxWaGGaYJL7KgqZS/GtxyWGmX9ygUvxM2rRLLURh807mCLNVa8A445emn0uIPxDwHLcrrJlPqCS7xUZcMGzGdr9UgiU/uCDjr5+CF+ReKOgA9g+VhAvkRYOVFnlNceIro3WTSV+8YceWgs5ThWYw9EHSNojMU4V9m4lXXXRslnfCTcMZesF84/ue/wqlYm2RXPp7lPlC6R2fyHNkZTD+FvpV31he+G27l/+PXt16bZFc+m+U+QqlecbsSnUpcJ9mri3HWF74ba+X/49e3XptkVz6Y5T5Qukdn8hzZGUY/hayGbsBesF87/ue/wqlYm2RXP57lPlC6R2fyHNkYTD+FrIZuwF6wXzr057/CqVibZFc/m+U+ULpHZ/Ic2RhLP4W+lXfWF74aa+X/8cSuSNJqEm+N/XBErk44tVfDXURpzb+CLpFcpV9ns7fw0/cPlnlXYsmmaEW+Bzb/AtlFGHzTuYIukVOvX2ehpOnFvgHcIEF6laFlWqhOOLVYzl1Eac2/gi6RU6pfZ6Gk6cW+AdwgQnqV5U1at05z9lzbFhBr0KmGdtpU8l9x5a29lOFLnyQGPYPlbA/5EXL2XIgaUj/W+8U4x0npGHHlrLeU4UufJAY9g+VtBfkRcvZciBpSP9b+xTjVWvAOOOvn7IP5F5gpGSvK6yZA+RE2oR7IUU8/wg==\"/><input hidden=\"\" name=\"d\" value=\"/kh1WK/HBDbbKxSXMPt/fh2/yucCszucfV3HxYW22y0=\"/><input hidden=\"\" name=\"k\" value=\"1_1676238663_8507376248767155878_4e95197dc43ecb1627631a097695139c\"/></form></div></div><span class=\"Text Text_color_ghost Text_weight_regular Text_typography_control-xs\">Если у вас возникли проблемы, пожалуйста, воспользуйтесь <a class=\"Link Link_view_default\" href=\"https://yandex.ru/support/smart-captcha/#help\">формой обратной связи</a></span></div></div></div><script async=\"\" src=\"https://mc.yandex.ru/metrika/tag.js\"></script><script>window.__SSR_DATA__={url:\"/ru/checkbox\",reqId:\"1676238663308974-17592977397513225425\",invalid:\"no\",formAction:\"/checkcaptcha?key=19095ec6-bf100015-29be9401-820b1a1c_2/1676238663/56611056a2a882be3839edc32284f1cf_87472a6a4eec556cbdfd4c58843d701f&mt=5674101F7B0CD023D779A1B30F45243D717E9A63CB3A03E8299F700D6DA1A55A0B0F&retpath=aHR0cHM6Ly9tYXJrZXQueWFuZGV4LnJ1L3Byb2R1Y3QtLWlncm92YWlhLXByaXN0YXZrYS1zb255LXBsYXlzdGF0aW9uLTUvNjY1MzA2MTcwP2dsZmlsdGVyPTE0ODcxMjE0JTNBMTQ4OTkzOTdfMTAxNTMzMjQzNzI4JmdsZmlsdGVyPTE1ODczMzY1JTNBMTU4NzMzNzBfMTAxNTMzMjQzNzI4JmdsZmlsdGVyPTIzNDc2OTEwJTNBMjY2ODQ5NTBfMTAxNjk0MTYzODEyJmdsZmlsdGVyPTI3MTk1MzUwJTNBMjcxOTkwNTBfMTAxNTMzMjQzNzI4JmdsZmlsdGVyPTM2OTg3MDEwJTNBODI1fjgyNV8xMDE1MzMyNDM3MjgmdGV4dD1Tb255JTIwUGxheVN0YXRpb24lMjA1JmNwYT0xJmNwYz1ETWJudzhickZRdkx6ZzVucXlXWTcxYk90YWo2LXRFM3c3X3p3a1llTUlXRFJqREYtT21YWGZsYjhZbzRTRFR3RE1HQUNwUlZ6MHQweHBMMXFhY2VvS19JQURZWURyVFRZWnNnVFAyRXpnbGdCM3NKalJPU0g3U014R3k1eU9fb2xsNFBGRm0tM2pNWEZ2dzNFUjgySGxvc18zQzVPSGNUZFVVRzA0bWxUTnBKUDF6NENncDZ1V3RKMXB3aXZ4bVJMbFhKRlZZQm9odyUyQyZza3U9MTAxNjk0MTYzODEyJmRvLXdhcmVtZDU9MGI5eE1hSHNBdWlEdXZGU1NKNGo0USZyZXNhbGVfZ29vZHM9cmVzYWxlX25ldyZuaWQ9MzQ5NDg1Njk%2C_fdb2ff24e386e609ff4a6ab464e81a66&u=46e35514-ab354864-6e1bd592-44e5f9aa&s=15e258e5cd094b61c6660eb4e61f23fb\",captchaKey:\"19095ec6-bf100015-29be9401-820b1a1c_2/1676238663/56611056a2a882be3839edc32284f1cf_87472a6a4eec556cbdfd4c58843d701f\",imageSrc:\"\",voiceSrc:\"\",introSrc:\"\",aesKey:\"/kh1WK/HBDbbKxSXMPt/fh2/yucCszucfV3HxYW22y0=\",aesSign:\"1_1676238663_8507376248767155878_4e95197dc43ecb1627631a097695139c\"}</script><script crossorigin=\"\" src=\"/captcha_smart_error.min.js?k=1632998364813\"></script><script crossorigin=\"\" src=\"https://yastatic.net/react/16.8.4/react-with-dom-and-polyfills.min.js\"></script><script crossorigin=\"\" src=\"/captcha_smart.min.js?k=1632998364813\"></script><script>!function(e,t,n,a,c){e.ym=e.ym||function(){(e.ym.a=e.ym.a||[]).push(arguments)},e.ym.l=+new Date,a=t.createElement(n),c=t.getElementsByTagName(n)[0],a.async=1,a.src=\"https://mc.yandex.ru/metrika/tag.js\",c.parentNode.insertBefore(a,c)}(window,document,\"script\"),ym(10630330,\"init\",{clickmap:!0,trackLinks:!0,accurateTrackBounce:!0,webvisor:!0,ut:\"noindex\",params:{req_id:\"1676238663308974-17592977397513225425\"}})</script><noscript><div><img alt=\"\" src=\"https://mc.yandex.ru/watch/10630330?ut=noindex\" style=\"position:absolute;left:-9999px\"/></div></noscript><div><img alt=\"\" src=\"https://adfstat.yandex.ru/captcha?req_id=1676238663308974-17592977397513225425\" style=\"position:absolute;left:-9999px\"/></div></body></html>"
      ]
     },
     "execution_count": 62,
     "metadata": {},
     "output_type": "execute_result"
    }
   ],
   "source": [
    "open_title_link(links_df['Ссылка'][0])"
   ]
  },
  {
   "cell_type": "code",
   "execution_count": null,
   "id": "d4d249ef",
   "metadata": {},
   "outputs": [],
   "source": [
    "def get_info_title(soup):\n",
    "    \n",
    "    \"\"\" \n",
    "    функция вовзвращает информацию о товаре с его титульнойстраницы\n",
    "    soup: BeautifulSoup object\n",
    "        объект soup титульной страницы товара\n",
    "    \"\"\"\n",
    "    \n",
    "    # получасем кол-во человек, которые интересовались товаром за последние 2 месяца\n",
    "    interest_badge_text = soup.find(attrs={'data-zone-name': \"interest-badge\"}).getText().replace(u'\\xa0', u'')\n",
    "    interest_badge_num = int(re.findall('\\d+', interest_badge_text)[0])\n",
    "    \n",
    "    # получаем данные по рейтингу товара\n",
    "    rating_dict = {}\n",
    "    rating_meta = soup.find('div', attrs={'itemprop': \"aggregateRating\"}).find_all('meta')\n",
    "    for item in rating_meta:\n",
    "        rating_dict[item['itemprop']] = item['content']\n",
    "    \n",
    "    # получаем кол-во предложений и минимальная цена\n",
    "    offers_minprice = soup.find('div', attrs={'data-zone-name': \"morePricesLink\"}).getText().replace(' ', '')\n",
    "    offers, min_price = re.findall('\\d+', offers_minprice)\n",
    "    offers = int(offers)\n",
    "    min_price = int(min_price)\n",
    "    \n",
    "    title_info_dict = {\n",
    "        'интересовались за последние 2 месяца': interest_badge_num,\n",
    "        'рейтинг': rating_dict, \n",
    "        'кол-во предложений': offers,\n",
    "        'минимальная цена': min_price\n",
    "    }\n",
    "    \n",
    "    return title_info_dict"
   ]
  },
  {
   "cell_type": "code",
   "execution_count": null,
   "id": "008106d8",
   "metadata": {},
   "outputs": [],
   "source": [
    "title_info = get_info_title(soup)\n",
    "title_info"
   ]
  },
  {
   "cell_type": "code",
   "execution_count": null,
   "id": "201a1334",
   "metadata": {},
   "outputs": [],
   "source": [
    "def open_offers_link(url):\n",
    "    \n",
    "    \"\"\" \n",
    "    функция вовзвращает объект soup по заданной ссылке на страницу с предложениями по товару\n",
    "    \n",
    "    url: str\n",
    "        ссылка на страницу с предложениями по товару\n",
    "    \"\"\"\n",
    "    \n",
    "    ua = UserAgent()\n",
    "    user_agent = ua.random\n",
    "    \n",
    "    options = webdriver.ChromeOptions()\n",
    "    options.add_argument(f'user-agent={user_agent}')\n",
    "    options.add_argument(\"--disable-blink-features=AutomationControlled\")\n",
    "    \n",
    "    driver = webdriver.Chrome(\n",
    "        executable_path=f\"C:/Users/{user}/Parsing_folder/chromedriver/chromedriver.exe\",\n",
    "        options=options)\n",
    "    \n",
    "    def get_offers_url(url):\n",
    "\n",
    "        \"\"\"функция возвращает ссылку на список предложений по товару\n",
    "        url: str\n",
    "             ссылка на страницу товара в Яндекс Маркете\n",
    "        \"\"\"\n",
    "\n",
    "        splited_url = url.split('/')\n",
    "        item_filter = splited_url.pop()\n",
    "        splited_url.append('/offers?'.join(item_filter.split('?')))\n",
    "        offers_url = '/'.join(splited_url) + '&how=aprice'\n",
    "\n",
    "        return offers_url\n",
    "    \n",
    "    offers_url = get_offers_url(url)\n",
    "    \n",
    "    try:\n",
    "        driver.get(offers_url)\n",
    "        time.sleep(10)\n",
    "        soup = BeautifulSoup(driver.page_source, 'lxml')\n",
    "    except Exception as ex:\n",
    "        print(ex)\n",
    "    finally:\n",
    "        driver.close()\n",
    "        driver.quit()\n",
    "        \n",
    "    return soup"
   ]
  },
  {
   "cell_type": "code",
   "execution_count": null,
   "id": "fbc1c483",
   "metadata": {},
   "outputs": [],
   "source": [
    "def get_info_offers(soup):\n",
    "    \n",
    "    \"\"\" \n",
    "    функция вовзвращает информацию о предложениях товара\n",
    "    \n",
    "    soup: BeautifulSoup object\n",
    "        объект soup страницы с предложениями товара\n",
    "    \"\"\"\n",
    "    offers_info_dict = {}\n",
    "    \n",
    "    # получасем название магазина и цену\n",
    "    snippet_list = soup.find('div', attrs={'data-zone-name': \"snippetList\"})\n",
    "    \n",
    "    for i in range(len(snippet_list)):\n",
    "        offer_snippet = snippet_list.find_all('div', attrs={'data-zone-name': \"OfferSnippet\"})[i]\\\n",
    "            .find('div', attrs={'data-auto':'top-offer-snippet-shop-info'})\n",
    "        \n",
    "        if offer_snippet.find('div', attrs={'data-zone-name':'shop-name'}) is not None:\n",
    "            shop_name_div = offer_snippet.find('div', attrs={'data-zone-name':'shop-name'})\n",
    "            try:\n",
    "                shop_name = shop_name_div.find('img')['title']\n",
    "            except:\n",
    "                shop_name = shop_name_div.find('a')['title']\n",
    "\n",
    "        elif offer_snippet.find('a', attrs={'data-zone-name':'offerLink'}) is not None:\n",
    "            shop_name = offer_snippet.find('a', attrs={'data-zone-name':'offerLink'}).getText()\n",
    "        \n",
    "        else:\n",
    "            shop_name = 'unknown'\n",
    "        \n",
    "        price_snippet = snippet_list.find_all('div', attrs={'data-zone-name': \"price\"})[i]\\\n",
    "            .find('span', attrs={'data-auto':'mainPrice'})\n",
    "        \n",
    "        price = price_snippet.getText().replace(u'\\xa0', u'').replace('₽', '').replace(' ', '')\n",
    "        \n",
    "        offers_info_dict[shop_name] = int(price)\n",
    "    \n",
    "    return offers_info_dict"
   ]
  },
  {
   "cell_type": "code",
   "execution_count": null,
   "id": "2b03acc3",
   "metadata": {},
   "outputs": [],
   "source": [
    "soup = open_offers_link(links_df['Ссылка'][0])"
   ]
  },
  {
   "cell_type": "code",
   "execution_count": null,
   "id": "de0c4520",
   "metadata": {
    "scrolled": true
   },
   "outputs": [],
   "source": [
    "get_info_offers(soup)"
   ]
  }
 ],
 "metadata": {
  "kernelspec": {
   "display_name": "Python 3",
   "language": "python",
   "name": "python3"
  },
  "language_info": {
   "codemirror_mode": {
    "name": "ipython",
    "version": 3
   },
   "file_extension": ".py",
   "mimetype": "text/x-python",
   "name": "python",
   "nbconvert_exporter": "python",
   "pygments_lexer": "ipython3",
   "version": "3.10.4"
  },
  "vscode": {
   "interpreter": {
    "hash": "158834a458448df1080b5eb7d3e34abfb64dddde9e2d7d5e08c7c22732857a0a"
   }
  }
 },
 "nbformat": 4,
 "nbformat_minor": 5
}
